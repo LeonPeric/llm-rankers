{
 "cells": [
  {
   "cell_type": "code",
   "execution_count": 10,
   "metadata": {},
   "outputs": [],
   "source": [
    "from collections import deque\n",
    "\n",
    "documents_with_relevance = {\n",
    "    0: [\"hoi\", \"hey\"],\n",
    "    1: [\"hi\", \"hallo\"],\n",
    "    2: [\"greetings\", \"Cheers\"],\n",
    "    3: [\"welcome\"],\n",
    "}"
   ]
  },
  {
   "cell_type": "code",
   "execution_count": 11,
   "metadata": {},
   "outputs": [],
   "source": [
    "def arrange_strings(documents):\n",
    "    arranged = deque()\n",
    "\n",
    "    # Get keys in descending order\n",
    "    keys = sorted(documents.keys(), reverse=True)\n",
    "    \n",
    "    for key in keys:\n",
    "        strings = documents[key]\n",
    "        for i, string in enumerate(strings):\n",
    "            if len(arranged) == 0 or i % 2 == 0:\n",
    "                arranged.append(string)\n",
    "            else:\n",
    "                arranged.appendleft(string)\n",
    "\n",
    "    return list(arranged)"
   ]
  },
  {
   "cell_type": "code",
   "execution_count": 12,
   "metadata": {},
   "outputs": [
    {
     "name": "stdout",
     "output_type": "stream",
     "text": [
      "['hey', 'hallo', 'Cheers', 'welcome', 'greetings', 'hi', 'hoi']\n"
     ]
    }
   ],
   "source": [
    "output = arrange_strings(documents_with_relevance)\n",
    "print(output)"
   ]
  },
  {
   "cell_type": "code",
   "execution_count": null,
   "metadata": {},
   "outputs": [
    {
     "name": "stdout",
     "output_type": "stream",
     "text": [
      "dict_values([['hoi', 'hey'], ['hi', 'hallo'], ['greetings', 'Cheers'], ['welcome']])\n",
      "['hoi', 'hey', 'hi', 'hallo', 'greetings', 'Cheers', 'welcome']\n"
     ]
    }
   ],
   "source": [
    "def get_sorted_items(documents):\n",
    "    all_items = [item for values in documents.values() for item in values]\n",
    "    return (all_items)\n",
    "\n",
    "output = get_sorted_items(documents_with_relevance)\n",
    "print(output)"
   ]
  }
 ],
 "metadata": {
  "kernelspec": {
   "display_name": "llm-rankers",
   "language": "python",
   "name": "python3"
  },
  "language_info": {
   "codemirror_mode": {
    "name": "ipython",
    "version": 3
   },
   "file_extension": ".py",
   "mimetype": "text/x-python",
   "name": "python",
   "nbconvert_exporter": "python",
   "pygments_lexer": "ipython3",
   "version": "3.9.20"
  }
 },
 "nbformat": 4,
 "nbformat_minor": 2
}
